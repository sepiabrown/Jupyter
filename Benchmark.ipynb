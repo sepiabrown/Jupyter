{
 "cells": [
  {
   "cell_type": "code",
   "execution_count": null,
   "id": "141713f5-5b66-4392-a293-10cd1c2a14da",
   "metadata": {},
   "outputs": [],
   "source": [
    "import numpy as np\n",
    "import time\n",
    "n = 20000\n",
    "np.random.seed(0)\n",
    "A = np.random.randn(n,n).astype('float64')\n",
    "B = np.random.randn(n,n).astype('float64')\n",
    "start_time = time.time()\n",
    "nrm = np.linalg.norm(A@B)\n",
    "print(\" took {} seconds \".format(time.time() - start_time))\n",
    "print(\" norm = \",nrm)\n",
    "print(np.__config__.show())"
   ]
  },
  {
   "cell_type": "code",
   "execution_count": 1,
   "id": "2371d819-59f3-4812-8c90-a03552dc8001",
   "metadata": {},
   "outputs": [
    {
     "data": {
      "text/plain": [
       "5.557448148727417"
      ]
     },
     "execution_count": 1,
     "metadata": {},
     "output_type": "execute_result"
    }
   ],
   "source": [
    "81.82210302352905-76.26465487480164\n",
    "#mkl little bit faster"
   ]
  },
  {
   "cell_type": "code",
   "execution_count": 1,
   "id": "882d803c-a726-4080-85b9-82fa4f22d610",
   "metadata": {},
   "outputs": [
    {
     "name": "stdout",
     "output_type": "stream",
     "text": [
      " took 29.31326198577881 seconds \n",
      " norm =  -inf\n",
      "blas_armpl_info:\n",
      "  NOT AVAILABLE\n",
      "blas_mkl_info:\n",
      "    libraries = ['mkl_rt', 'pthread']\n",
      "    library_dirs = ['/nix/store/57qqja3ilkjg9s5nqc6xgyvickmvk0r2-blas-3/lib']\n",
      "    define_macros = [('SCIPY_MKL_H', None), ('HAVE_CBLAS', None)]\n",
      "    include_dirs = []\n",
      "blas_opt_info:\n",
      "    libraries = ['mkl_rt', 'pthread']\n",
      "    library_dirs = ['/nix/store/57qqja3ilkjg9s5nqc6xgyvickmvk0r2-blas-3/lib']\n",
      "    define_macros = [('SCIPY_MKL_H', None), ('HAVE_CBLAS', None)]\n",
      "    include_dirs = []\n",
      "lapack_armpl_info:\n",
      "  NOT AVAILABLE\n",
      "lapack_mkl_info:\n",
      "    libraries = ['mkl_rt', 'pthread']\n",
      "    library_dirs = ['/nix/store/57qqja3ilkjg9s5nqc6xgyvickmvk0r2-blas-3/lib']\n",
      "    define_macros = [('SCIPY_MKL_H', None), ('HAVE_CBLAS', None)]\n",
      "    include_dirs = []\n",
      "lapack_opt_info:\n",
      "    libraries = ['mkl_rt', 'pthread']\n",
      "    library_dirs = ['/nix/store/57qqja3ilkjg9s5nqc6xgyvickmvk0r2-blas-3/lib']\n",
      "    define_macros = [('SCIPY_MKL_H', None), ('HAVE_CBLAS', None)]\n",
      "    include_dirs = []\n",
      "Supported SIMD extensions in this NumPy install:\n",
      "    baseline = SSE,SSE2,SSE3\n",
      "    found = SSSE3,SSE41,POPCNT,SSE42,AVX,F16C,FMA3,AVX2\n",
      "    not found = AVX512F,AVX512CD,AVX512_KNL,AVX512_SKX,AVX512_CLX,AVX512_CNL,AVX512_ICL\n",
      "None\n"
     ]
    },
    {
     "name": "stderr",
     "output_type": "stream",
     "text": [
      "/nix/store/55vdny4jmyqgcsd02vbc59p0h29cr8v8-python3-3.9.11-env/lib/python3.9/site-packages/numpy/linalg/linalg.py:2146: RuntimeWarning: overflow encountered in det\n",
      "  r = _umath_linalg.det(a, signature=signature)\n"
     ]
    }
   ],
   "source": [
    "import numpy as np\n",
    "import time\n",
    "n = 20000\n",
    "np.random.seed(0)\n",
    "A = np.random.randn(n,n).astype('float64')\n",
    "#B = np.random.randn(n,n).astype('float64')\n",
    "start_time = time.time()\n",
    "nrm = np.linalg.det(A)\n",
    "print(\" took {} seconds \".format(time.time() - start_time))\n",
    "print(\" norm = \",nrm)\n",
    "print(np.__config__.show())"
   ]
  },
  {
   "cell_type": "code",
   "execution_count": 4,
   "id": "4e71b9ad-052f-4592-853c-f8c6612fdb98",
   "metadata": {},
   "outputs": [
    {
     "name": "stdout",
     "output_type": "stream",
     "text": [
      " took 38.0526921749115 seconds \n",
      " norm =  -inf\n",
      "blas_armpl_info:\n",
      "  NOT AVAILABLE\n",
      "blas_mkl_info:\n",
      "  NOT AVAILABLE\n",
      "blis_info:\n",
      "  NOT AVAILABLE\n",
      "openblas_info:\n",
      "    libraries = ['openblas', 'openblas']\n",
      "    library_dirs = ['/nix/store/2adyla33p8bx5s4498d84ysip2xkkv3p-openblas-0.3.20/lib']\n",
      "    language = c\n",
      "    define_macros = [('HAVE_CBLAS', None)]\n",
      "blas_opt_info:\n",
      "    libraries = ['openblas', 'openblas']\n",
      "    library_dirs = ['/nix/store/2adyla33p8bx5s4498d84ysip2xkkv3p-openblas-0.3.20/lib']\n",
      "    language = c\n",
      "    define_macros = [('HAVE_CBLAS', None)]\n",
      "lapack_armpl_info:\n",
      "  NOT AVAILABLE\n",
      "lapack_mkl_info:\n",
      "  NOT AVAILABLE\n",
      "openblas_lapack_info:\n",
      "    libraries = ['openblas', 'openblas']\n",
      "    library_dirs = ['/nix/store/2adyla33p8bx5s4498d84ysip2xkkv3p-openblas-0.3.20/lib']\n",
      "    language = c\n",
      "    define_macros = [('HAVE_CBLAS', None)]\n",
      "lapack_opt_info:\n",
      "    libraries = ['openblas', 'openblas']\n",
      "    library_dirs = ['/nix/store/2adyla33p8bx5s4498d84ysip2xkkv3p-openblas-0.3.20/lib']\n",
      "    language = c\n",
      "    define_macros = [('HAVE_CBLAS', None)]\n",
      "Supported SIMD extensions in this NumPy install:\n",
      "    baseline = SSE,SSE2,SSE3\n",
      "    found = SSSE3,SSE41,POPCNT,SSE42,AVX,F16C,FMA3,AVX2\n",
      "    not found = AVX512F,AVX512CD,AVX512_KNL,AVX512_SKX,AVX512_CLX,AVX512_CNL,AVX512_ICL\n",
      "None\n"
     ]
    }
   ],
   "source": [
    "import numpy as np\n",
    "import time\n",
    "n = 20000\n",
    "np.random.seed(0)\n",
    "A = np.random.randn(n,n).astype('float64')\n",
    "#B = np.random.randn(n,n).astype('float64')\n",
    "start_time = time.time()\n",
    "nrm = np.linalg.det(A)\n",
    "print(\" took {} seconds \".format(time.time() - start_time))\n",
    "print(\" norm = \",nrm)\n",
    "print(np.__config__.show())"
   ]
  }
 ],
 "metadata": {
  "kernelspec": {
   "display_name": "Python3 - ms-thesis--env",
   "language": "python",
   "name": "ipython_ms-thesis--env"
  },
  "language_info": {
   "codemirror_mode": {
    "name": "ipython",
    "version": 3
   },
   "file_extension": ".py",
   "mimetype": "text/x-python",
   "name": "python",
   "nbconvert_exporter": "python",
   "pygments_lexer": "ipython3",
   "version": "3.9.11"
  }
 },
 "nbformat": 4,
 "nbformat_minor": 5
}
