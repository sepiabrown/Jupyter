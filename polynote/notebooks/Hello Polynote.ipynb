{
  "metadata" : {
    "config" : {
      "dependencies" : {
        
      },
      "exclusions" : [
      ],
      "repositories" : [
      ],
      "env" : {
        
      }
    },
    "language_info" : {
      "name" : "scala"
    }
  },
  "nbformat" : 4,
  "nbformat_minor" : 0,
  "cells" : [
    {
      "cell_type" : "code",
      "execution_count" : 1,
      "metadata" : {
        "cell.metadata.exec_info" : {
          "startTs" : 1653759477986,
          "endTs" : 1653759479771
        },
        "language" : "scala"
      },
      "language" : "scala",
      "source" : [
        "import scala.util.Random.nextGaussian\n",
        "\n",
        "println(\"Moo Mae Min\")\n",
        "\n",
        "val x = 50\n",
        "\n",
        "case class Point(x: Double, y:Double)\n",
        "List.fill(x)(Point(nextGaussian * 2 + 5, nextGaussian *4))"
      ],
      "outputs" : [
        {
          "name" : "stdout",
          "text" : [
            "Moo Mae Min\n"
          ],
          "output_type" : "stream"
        },
        {
          "execution_count" : 1,
          "data" : {
            "text/plain" : [
              "List(Point(2.7025094049184095,0.14054399132721127), Point(6.5466839381409105,2.3369258362463703), Point(4.592422083217302,2.6154253286309674), Point(5.787373488995586,3.1501869013262493), Point(6.944027544707003,-2.231177294959391), Point(7.1818751017738…"
            ]
          },
          "metadata" : {
            "name" : "Out",
            "type" : "List[Point]"
          },
          "output_type" : "execute_result"
        }
      ]
    },
    {
      "cell_type" : "code",
      "execution_count" : 2,
      "metadata" : {
        "jupyter.source_hidden" : true
      },
      "language" : "viz",
      "source" : [
        "{\"type\":\"plot\",\"value\":\"Out\",\"plotDefinition\":{\"value\":\"Out\",\"title\":\"Out\",\"forceZero\":true,\"plot\":{\"type\":\"xy\",\"x\":{\"field\":\"x\"},\"y\":{\"field\":\"y\"}}}}"
      ],
      "outputs" : [
        {
          "data" : {
            "application/vnd.vegalite.v4" : [
              "{\"$schema\":\"https://vega.github.io/schema/vega-lite/v4.json\",\"title\":\"Out\",\"data\":{\"values\":[{\"x\":5.3465677405935335,\"y\":4.674384980482524},{\"x\":6.070503487062423,\"y\":0.005080891290113141},{\"x\":8.0675195206421,\"y\":4.27334680995569},{\"x\":8.394667619734559,\"y\":0.48895470020072307},{\"x\":6.860015021658834,\"y\":0.358255574296979},{\"x\":2.814163375925313,\"y\":5.360205620252295},{\"x\":5.38421894697831,\"y\":7.352268028333795},{\"x\":1.4434595791038558,\"y\":-3.7201070560098057},{\"x\":5.167884492807304,\"y\":1.9754884895715519},{\"x\":4.574168591989799,\"y\":-3.6382052900419577},{\"x\":4.5681466654477925,\"y\":3.6445343217618924},{\"x\":3.979300262744088,\"y\":0.5941595761250228},{\"x\":5.48109164210899,\"y\":-1.8516334239232888},{\"x\":2.5105600703739426,\"y\":-7.08613973957162},{\"x\":7.392504459191431,\"y\":-0.4721967919357004},{\"x\":5.608517323590402,\"y\":1.745319734733057},{\"x\":7.473467927715026,\"y\":-1.2717932078370529},{\"x\":3.597254014120564,\"y\":6.333938664490586},{\"x\":1.179995636731324,\"y\":-2.9883352452498944},{\"x\":8.521468959271118,\"y\":-3.3956045406271866},{\"x\":3.84496902659306,\"y\":-2.4548707313061553},{\"x\":5.274571305046314,\"y\":-5.920712273720213},{\"x\":5.27567920263178,\"y\":3.6717887754575136},{\"x\":3.094017564830203,\"y\":-1.0040363981427822},{\"x\":4.300653690012592,\"y\":-0.548457369217529},{\"x\":4.850322728986843,\"y\":-5.010039446990287},{\"x\":4.306017277856515,\"y\":-2.9445237211736472},{\"x\":4.197805175109619,\"y\":4.845530819755261},{\"x\":2.1793300976646175,\"y\":-2.1253354975395613},{\"x\":7.438186341565977,\"y\":-5.254050820100749},{\"x\":8.917525440073089,\"y\":-3.879009310520616},{\"x\":4.876489237677772,\"y\":5.363850512706071},{\"x\":5.500952694061846,\"y\":-0.8385554543992472},{\"x\":7.4567398154181355,\"y\":0.15039574037024697},{\"x\":4.995259514611839,\"y\":-3.6304948389183447},{\"x\":3.918905565962712,\"y\":0.7035446515359228},{\"x\":4.650065913505576,\"y\":9.603231990391418},{\"x\":7.075082932639461,\"y\":-2.88919812710232},{\"x\":4.592489785086485,\"y\":3.315952730803372},{\"x\":5.244226967390789,\"y\":-1.7654041734898565},{\"x\":2.760377409299044,\"y\":-4.336389304541719},{\"x\":5.0083742491697825,\"y\":-6.862887030652819},{\"x\":6.076156455562323,\"y\":0.9666442837189377},{\"x\":4.981348108329157,\"y\":-2.820341324568882},{\"x\":3.1758363934109686,\"y\":-10.259372092245034},{\"x\":6.128294103128933,\"y\":1.0770300545784177},{\"x\":2.9279719490306766,\"y\":3.8931944340679014},{\"x\":6.457706852115333,\"y\":-1.32503520180838},{\"x\":2.850682457884109,\"y\":-5.900658738511934},{\"x\":2.736112507317686,\"y\":-3.793358247565536}]},\"mark\":{\"type\":\"point\",\"tooltip\":{\"content\":\"data\"}},\"encoding\":{\"x\":{\"field\":\"x\",\"type\":\"quantitative\",\"axis\":{}},\"y\":{\"field\":\"y\",\"axis\":{}}},\"width\":\"container\",\"height\":\"container\"}"
            ]
          },
          "output_type" : "display_data"
        }
      ]
    },
    {
      "cell_type" : "code",
      "execution_count" : 3,
      "metadata" : {
        "cell.metadata.exec_info" : {
          "startTs" : 1653759484011,
          "endTs" : 1653759484208
        },
        "language" : "scala"
      },
      "language" : "scala",
      "source" : [
        "val foo = 28"
      ],
      "outputs" : [
      ]
    },
    {
      "cell_type" : "code",
      "execution_count" : 5,
      "metadata" : {
        "cell.metadata.exec_info" : {
          "startTs" : 1653759493164,
          "endTs" : 1653759493201
        },
        "language" : "python"
      },
      "language" : "python",
      "source" : [
        "1+2"
      ],
      "outputs" : [
        {
          "ename" : "jep.JepException",
          "evalue" : "<class 'TypeError'>: Cannot create a consistent method resolution\norder (MRO) for bases HasNewBuilder, GenTraversableLike",
          "traceback" : [
            "jep.python.PyObject,getAttr,PyObject.java,-2",
            "jep.python.PyObject,getAttr,PyObject.java,133",
            "polynote.kernel.interpreter.python.PythonInterpreter$$anonfun$injectGlobals$1$$anonfun$apply$29,apply,PythonInterpreter.scala,683",
            "polynote.kernel.interpreter.python.PythonInterpreter$$anonfun$injectGlobals$1$$anonfun$apply$29,apply,PythonInterpreter.scala,682",
            "polynote.kernel.interpreter.python.PythonInterpreter$$anonfun$jep$1,apply,PythonInterpreter.scala,245",
            "zio.internal.FiberContext,evaluateNow,FiberContext.scala,490",
            "zio.internal.FiberContext,zio$internal$FiberContext$$run$body$2,FiberContext.scala,776",
            "zio.internal.FiberContext$$anonfun$29,run,FiberContext.scala,776",
            "java.util.concurrent.ThreadPoolExecutor,runWorker,ThreadPoolExecutor.java,1149",
            "java.util.concurrent.ThreadPoolExecutor$Worker,run,ThreadPoolExecutor.java,624",
            "java.lang.Thread,run,Thread.java,750"
          ],
          "output_type" : "error"
        }
      ]
    }
  ]
}